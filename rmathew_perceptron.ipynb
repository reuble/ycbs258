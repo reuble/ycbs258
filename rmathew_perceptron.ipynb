{
 "cells": [
  {
   "cell_type": "markdown",
   "metadata": {
    "colab_type": "text",
    "id": "jEL4i_BpkCMz"
   },
   "source": [
    "**Week 1: Coding Assignment: Perceptron**"
   ]
  },
  {
   "cell_type": "code",
   "execution_count": 0,
   "metadata": {
    "colab": {},
    "colab_type": "code",
    "id": "uSZJv3DFguRz"
   },
   "outputs": [],
   "source": [
    "import numpy as np\n",
    "import matplotlib.pyplot as plt\n",
    "from scipy.stats import logistic\n",
    "from pylab import rand\n",
    "from sklearn import datasets"
   ]
  },
  {
   "cell_type": "code",
   "execution_count": 0,
   "metadata": {
    "colab": {},
    "colab_type": "code",
    "id": "0FpB9EuYgxZH"
   },
   "outputs": [],
   "source": [
    "class Perceptron():\n",
    "    def __init__(self, lr):\n",
    "        self.lr = lr\n",
    "    \n",
    "    def predict(self, x, classifier = logistic.cdf):\n",
    "        \"\"\"\n",
    "        Classify data using current instance of weights and classifier.\n",
    "        \"\"\"\n",
    "        z = sum(x * self.w)\n",
    "        activation = classifier(z)\n",
    "        return 1 if activation >= 0.5 else 0\n",
    "    \n",
    "    def updateWeights(self, x, y, d):\n",
    "        \"\"\"\n",
    "        Updates the weights based on error from one training data point.\n",
    "        \"\"\"\n",
    "        err = d - y\n",
    "        self.w += self.lr * err * x\n",
    "    \n",
    "    def evaluateModel(self, inputs, labels):\n",
    "        \"\"\"\n",
    "        Returns the total error for current instance of model.\n",
    "        \"\"\"\n",
    "        model_error = 0\n",
    "        errors = list(map(lambda x, d: abs(d - self.predict(x)), \n",
    "                          inputs, labels))\n",
    "        model_error = sum(errors)\n",
    "        return model_error\n",
    "    \n",
    "    def descisionBoundary(self):\n",
    "        \"\"\"Returns the slope and intercept of the decision boundary.\"\"\"\n",
    "        slope = -self.w[1] / self.w[2]\n",
    "        intercept = -self.w[0] / self.w[2]\n",
    "        return slope, intercept\n",
    "    \n",
    "    def predictedLabels(self, inputs):\n",
    "        \"\"\"\n",
    "        Uses model to predict labels for inputs. Returns array of labels.\n",
    "        \"\"\"\n",
    "        ndata_points = np.len(inputs)\n",
    "        predicted_labels = np.zeros(ndata_points)\n",
    "        for i, x in enumerate(inputs):\n",
    "            predicted_labels[i] = self.predict(x)\n",
    "        return predicted_labels\n",
    "    \n",
    "    def train(self, data, labels, n_epochs=20):\n",
    "        \"\"\"\n",
    "        Train perceptron using data and corresponding labels.\n",
    "        Stop when error = 0 or when n_epochs is reached.\n",
    "        \"\"\"\n",
    "        n_data_points, n_inputs = np.shape(data)\n",
    "        \n",
    "        # set number of neurons and initialize weights\n",
    "        self.n = n_inputs + 1\n",
    "        self.w = rand(self.n)\n",
    "        \n",
    "        # add biases to data\n",
    "        biases = np.ones(n_data_points)\n",
    "        inputs = np.concatenate((np.transpose([biases]), data), axis=1)\n",
    "        \n",
    "        # run learning algorithm u\n",
    "        print('Initial model error = %d' % (self.evaluateModel(inputs, labels)))\n",
    "        for epoch in range(n_epochs):\n",
    "            model_error = self.evaluateModel(inputs, labels)\n",
    "            for x, d in zip(inputs, labels):\n",
    "                y = self.predict(x)\n",
    "                self.updateWeights(x, y, d)\n",
    "            model_error = self.evaluateModel(inputs, labels)\n",
    "            print('epoch=%d, error=%d' % (epoch, model_error))\n",
    "            if model_error == 0:\n",
    "                break\n",
    "        return model_error"
   ]
  },
  {
   "cell_type": "code",
   "execution_count": 0,
   "metadata": {
    "colab": {},
    "colab_type": "code",
    "id": "T-84MrQnjQee"
   },
   "outputs": [],
   "source": [
    "def generateData(n):\n",
    "    data, labels = datasets.make_blobs(n_samples=100, centers=2, n_features=2, \n",
    "                                       center_box=(0, 10))\n",
    "    return data, labels"
   ]
  },
  {
   "cell_type": "code",
   "execution_count": 0,
   "metadata": {
    "colab": {},
    "colab_type": "code",
    "id": "XXu_BM67j0FF"
   },
   "outputs": [],
   "source": [
    "def plotResults(data, labels, slope, intercept):\n",
    "    plt.clf()\n",
    "    plt.plot(data[:, 0][labels == 0], data[:, 1][labels == 0], 'go')\n",
    "    plt.plot(data[:, 0][labels == 1], data[:, 1][labels == 1], 'bo')\n",
    "    \n",
    "    x1 = min(data[:,0])\n",
    "    x2 = max(data[:,0])\n",
    "    y1 = x1 * slope + intercept\n",
    "    y2 = x2 * slope + intercept\n",
    "    plt.plot([x1, x2], [y1, y2], 'r-')\n",
    "    \n",
    "    plt.grid(True)\n",
    "    plt.show()"
   ]
  },
  {
   "cell_type": "code",
   "execution_count": 0,
   "metadata": {
    "colab": {},
    "colab_type": "code",
    "id": "1AqAfeKdOyOU"
   },
   "outputs": [],
   "source": [
    "def main():\n",
    "    # number of points in dataset\n",
    "    n_data_points = 100\n",
    "    # learning rate for perceptron\n",
    "    lr = 0.1\n",
    "    # maximum number of epochs to train\n",
    "    n_epochs = 50\n",
    "    \n",
    "    # generate data and train\n",
    "    data, labels = generateData(n_data_points)\n",
    "    P = Perceptron(lr)\n",
    "    P.train(data, labels, n_epochs)\n",
    "    \n",
    "    # plot decision boundary\n",
    "    slope, intercept = P.descisionBoundary()\n",
    "    plotResults(data, labels, slope, intercept)"
   ]
  },
  {
   "cell_type": "code",
   "execution_count": 146,
   "metadata": {
    "colab": {
     "base_uri": "https://localhost:8080/",
     "height": 1118
    },
    "colab_type": "code",
    "id": "qvspd65FUp5Y",
    "outputId": "c34330f5-2b93-4972-de06-7af8db734c29"
   },
   "outputs": [
    {
     "name": "stdout",
     "output_type": "stream",
     "text": [
      "Initial model error = 50\n",
      "epoch=0, error=6\n",
      "epoch=1, error=6\n",
      "epoch=2, error=3\n",
      "epoch=3, error=2\n",
      "epoch=4, error=2\n",
      "epoch=5, error=2\n",
      "epoch=6, error=4\n",
      "epoch=7, error=2\n",
      "epoch=8, error=4\n",
      "epoch=9, error=5\n",
      "epoch=10, error=4\n",
      "epoch=11, error=5\n",
      "epoch=12, error=3\n",
      "epoch=13, error=3\n",
      "epoch=14, error=3\n",
      "epoch=15, error=3\n",
      "epoch=16, error=1\n",
      "epoch=17, error=3\n",
      "epoch=18, error=1\n",
      "epoch=19, error=3\n",
      "epoch=20, error=1\n",
      "epoch=21, error=3\n",
      "epoch=22, error=1\n",
      "epoch=23, error=2\n",
      "epoch=24, error=1\n",
      "epoch=25, error=2\n",
      "epoch=26, error=1\n",
      "epoch=27, error=2\n",
      "epoch=28, error=1\n",
      "epoch=29, error=2\n",
      "epoch=30, error=1\n",
      "epoch=31, error=2\n",
      "epoch=32, error=1\n",
      "epoch=33, error=1\n",
      "epoch=34, error=1\n",
      "epoch=35, error=1\n",
      "epoch=36, error=1\n",
      "epoch=37, error=1\n",
      "epoch=38, error=1\n",
      "epoch=39, error=1\n",
      "epoch=40, error=0\n"
     ]
    },
    {
     "data": {
      "image/png": "[encoded data removed]",
      "text/plain": [
       "<Figure size 576x396 with 1 Axes>"
      ]
     },
     "metadata": {
      "tags": []
     },
     "output_type": "display_data"
    }
   ],
   "source": [
    "main()"
   ]
  }
 ],
 "metadata": {
  "colab": {
   "collapsed_sections": [],
   "name": "rmathew_perceptron.ipynb",
   "provenance": [],
   "version": "0.3.2"
  },
  "kernelspec": {
   "display_name": "Python 3",
   "language": "python",
   "name": "python3"
  },
  "language_info": {
   "codemirror_mode": {
    "name": "ipython",
    "version": 3
   },
   "file_extension": ".py",
   "mimetype": "text/x-python",
   "name": "python",
   "nbconvert_exporter": "python",
   "pygments_lexer": "ipython3",
   "version": "3.7.1"
  }
 },
 "nbformat": 4,
 "nbformat_minor": 1
}
